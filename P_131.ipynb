{
  "nbformat": 4,
  "nbformat_minor": 0,
  "metadata": {
    "colab": {
      "name": "P-131",
      "provenance": [],
      "authorship_tag": "ABX9TyNmv05t2aNOSCodvDajRjdB",
      "include_colab_link": true
    },
    "kernelspec": {
      "name": "python3",
      "display_name": "Python 3"
    },
    "language_info": {
      "name": "python"
    }
  },
  "cells": [
    {
      "cell_type": "markdown",
      "metadata": {
        "id": "view-in-github",
        "colab_type": "text"
      },
      "source": [
        "<a href=\"https://colab.research.google.com/github/awesomeayaan13/P-131/blob/main/P_131.ipynb\" target=\"_parent\"><img src=\"https://colab.research.google.com/assets/colab-badge.svg\" alt=\"Open In Colab\"/></a>"
      ]
    },
    {
      "cell_type": "code",
      "execution_count": 2,
      "metadata": {
        "colab": {
          "resources": {
            "http://localhost:8080/nbextensions/google.colab/files.js": {
              "data": "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",
              "ok": true,
              "headers": [
                [
                  "content-type",
                  "application/javascript"
                ]
              ],
              "status": 200,
              "status_text": ""
            }
          },
          "base_uri": "https://localhost:8080/",
          "height": 1000
        },
        "id": "GHSIuEbi89Yn",
        "outputId": "2bbc6d8d-0a7c-40c7-e919-c94de4421f18"
      },
      "outputs": [
        {
          "output_type": "display_data",
          "data": {
            "text/plain": [
              "<IPython.core.display.HTML object>"
            ],
            "text/html": [
              "\n",
              "     <input type=\"file\" id=\"files-adbfeb7a-fdab-44d5-8bef-c16e68425c1b\" name=\"files[]\" multiple disabled\n",
              "        style=\"border:none\" />\n",
              "     <output id=\"result-adbfeb7a-fdab-44d5-8bef-c16e68425c1b\">\n",
              "      Upload widget is only available when the cell has been executed in the\n",
              "      current browser session. Please rerun this cell to enable.\n",
              "      </output>\n",
              "      <script src=\"/nbextensions/google.colab/files.js\"></script> "
            ]
          },
          "metadata": {}
        },
        {
          "output_type": "stream",
          "name": "stdout",
          "text": [
            "Saving final_data.csv to final_data.csv\n"
          ]
        },
        {
          "output_type": "execute_result",
          "data": {
            "text/plain": [
              "{'final_data.csv': b',Star_names,Distance,Mass,Radius\\n0,Sun,0.000015813,1,1\\n1,Sirius,0008.6,2.1,1.71\\n2,Canopus,0310,15,71\\n3,Alpha Centauri,0004.4,1.1,1.2\\n4,Arcturus,0037,1.1,26\\n5,Vega,0025,2.2,2.7\\n6,Capella,0043,2.6,12\\n7,Rigel,0860,23,78.9\\n8,Procyon,0011.4,1.5,1.9\\n9,Betelgeuse,0640[1],20,950\\n10,Achernar,0144,6.7,9.3\\n11,Hadar,0390,10.5,8.6\\n12,Altair,0017,1.8,1.8\\n13,Acrux,0320,18,8.9\\n14,Aldebaran,0065,1.5,44\\n15,Antares,0600,12,680\\n16,Spica,0260,11.43,7.47\\n17,Pollux,0034,1.9,8.8\\n18,Fomalhaut,0025,1.9,1.8\\n19,Deneb,\"2,600\",19,203\\n20,Mimosa,0350,16,8.4\\n21,Regulus,0077,3.8,3.1\\n22,Adhara,0430,12.5,14\\n23,Shaula,0700,14.5,8.8\\n24,Castor,0052,2.8,2.4\\n25,Gacrux,0088,1.5,84\\n26,Bellatrix,0240,8.6,5.8\\n27,Elnath,0130,5.0,4.2\\n28,Miaplacidus,0110,3.5,6.8\\n29,Alnilam,\"2,000\",32,42\\n30,Gamma Velorum,\"01,100\",9.0,6\\n31,Alnair,0101,4.0,3.4\\n32,Alioth,0081,2.9,4.2\\n33,Alnitak,01050,33,20\\n34,Dubhe,0120,4.25,30\\n35,Mirfak,0590,8.5,68\\n36,Wezen,\"1,600\",17,200\\n37,Sargas,0270,5.7,26\\n38,Kaus Australis,0140,3.5,6.8\\n39,Avior,0630,9.0,130\\n40,Alkaid,0104,6.1,3.4\\n41,Menkalinan,081,2.39,2.77\\n42,Atria,0390,7,92\\n43,Alhena,0109,2.8,3.3\\n44,Peacock,0180,5.9,4.8\\n45,Alsephina[2],0080,2.4,2.9\\n46,Mirzam,0500,13.5,10\\n47,Polaris,0430,5.4,39\\n48,Alphard,0180,3.0,50\\n49,Mintaka,01200,24,16.5\\n50,Scheat,0196,2.1,95\\n51,Almaaz,0653,15,140\\n52,Rasalgethi,0360,2.8,280\\n53,Tau Ceti,011.9,0.783,0.893\\n54,Delta Pavonis,019.92,0.991,1.22\\n55,Ran,010.48,0.82,0.74\\n56,V382 Carinae,\"08,900\",20,485\\n57,Eta Carinae,\"07,500\",100,60\\xe2\\x80\\x93881\\n58,Delta Cephei,0887,4.5,44.5\\n59,Mu Cephei,\"06,000\",19.2,972\\n60,Titawin,044.25,1.27,1.48\\n61,Rho Cassiopeiae,\"08,154\",22,636-981\\n62,P Cygni,\"05,545\",30,76\\n63,VV Cephei,\"04,900\",18.2,\"516 - 1,050\"\\n64,61 Cygni,011.41,0.7,0.665\\n65,R Doradus,0178,0.7 - 1.0,298\\n66,Polaris Australis,0281,1.59,3.74\\n67,R Coronae Borealis,\"04,566\",0.85,85\\n68,54 Piscium,036.1,0.76,0.94\\n69,Mira,0300,1.2,370\\n70,RW Cephei,\"014,000\",13.9,\"1,158\"\\n71,Lacaille 8760,012.87,0.6,0.51\\n72,V838 Monocerotis,\"019,896\",?,380 - 750\\n73,HD 140283,0190,?,1.4\\n74,II Pegasi,0130,0.8,3.4\\n75,VY Canis Majoris,\"03,900\",17,\"1,420\"\\n76,Pistol Star,\"025,000\",100,320\\n77,S Doradus,\"0169,000\",24,380\\n78,UY Scuti,\"05,100\",7\\xe2\\x80\\x9310,755\\n79,Barnard\\'s Star,05.98,0.14,0.20\\n80,Luhman 16,06.52,0.04,?\\n81,Proxima Centauri,04.25,0.12,0.15\\n82,KIC 8462852,\"01,470\",1.43,1.58\\n83,R136a1,\"0163,000\",290,32\\n84,Melnick 42,\"0163,000\",189,21.1\\n85,WR 102,\"018,134\",19,0.39\\n86,VFTS 352,\"0164,000\",57.48,14.47\\n87,YBP 1194,\"02,772\",1.01,0.99\\n88,Gliese 1214,047.5,0.16,0.21\\n89,NML Cygni,\"05,251\",50,\"1,640 - 2,770\"\\n90,VB 10,018.72,0.075,0.10\\n91,WOH G64,\"0163,000\",<20,\"1,540 - 1,730\"\\n92,TRAPPIST-1,039.6,0.089,0.12\\n93,2MASS J0523-1403,040.3,0.07,0.086\\n94,WISE 0855\\xe2\\x88\\x920714,07.27,0.003,?\\n95,Icarus,\"014,400,000,000\",33,?\\n96,SDSS J000013.54+255418.6\\xc2\\xa0[de],46.1,0.045820224,0.10173536999999999\\n97,2MASS J00040288-6410358,192.0,0.018137172,0.16750368999999998\\n98,2MASS J00242463-0158201,37.7,0.075412452,0.11201167000000001\\n99,2MASS J00274197+0503417,236.0,0.029592228,0.14797871999999998\\n100,2MASSW J0030300-145033,87.2,0.051547752,0.10070773999999999\\n101,2MASS J00332386-1521309\\xc2\\xa0[de],131.0,0.027683052,0.14695108999999998\\n102,2MASS J00345157+0523050,31.0,0.040092696000000004,0.09659721999999998\\n103,2MASS 0036+1821,28.6,0.040092696000000004,0.09659721999999998\\n104,2MASSW J0045214+163445,57.0,0.021955524,0.16647606\\n105,WISEP J004701.06+680352.1\\xc2\\xa0[fr],40.0,0.011455056,0.13359189999999999\\n106,2MASS J00501994-3322402\\xc2\\xa0[de],34.0,0.03818352,0.09659721999999998\\n107,2MASS J00584253-0651239\\xc2\\xa0[de],96.0,0.027683052,0.14695108999999998\\n108,2MASSI J0103320+193536,70.0,0.049638576000000004,0.10070773999999999\\n109,SDSSp J010752.33+004156.1\\xc2\\xa0[de],51.0,0.049638576000000004,0.10070773999999999\\n110,2MASSI J0117474-340325\\xc2\\xa0[de],163.0,0.01909176,0.16647606\\n111,2MASS J01415823-4633574\\xc2\\xa0[de],130.0,0.01909176,0.16544843\\n112,SDSS J015141.69+124429.6,70.0,0.044865636,0.09968010999999999\\n113,SDSS J020742.48+000056.2\\xc2\\xa0[de],111.0,0.044865636,0.09968010999999999\\n114,2MASS J02103857-3015313,101.0,0.014318820000000001,0.15722739\\n115,2MASS J02340093-6442068,155.0,0.01909176,0.16647606\\n116,2MASS J02411151-0326587\\xc2\\xa0[de],152.0,0.025773876,0.14489582999999998\\n117,2MASS J02431371\\xe2\\x88\\x922453298,35.0,0.031501404000000004,0.10173536999999999\\n118,LP 771-21,53.0,0.074457864,0.11098404\\n119,Teegarden\\'s star,12.578,0.07636704,0.13050900999999998\\n120,2MASS J02535980+3206373,184.0,0.06204822,0.19524969999999997\\n121,WISE J0254+0223,24.0,0.06204822,0.19524969999999997\\n122,DEN 0255-4700,16.2,0.07636704,0.09968010999999999\\n123,2MASS J03185403-3421292\\xc2\\xa0[de],45.0,0.046774812,0.09968010999999999\\n124,2MASS J03205965+1854233,47.0,0.084003744,0.11817744999999999\\n125,2MASS J03231002-4631237,192.0,0.021955524,0.17058658\\n126,SDSS J032553.17+042540.1,59.0,0.04295646,0.09762484999999999\\n127,2MASS J03264225-2102057\\xc2\\xa0[de],80.0,0.017182584,0.13359189999999999\\n128,2MASS J03284265+2302051\\xc2\\xa0[de],98.0,0.051547752,0.10070773999999999\\n129,2MASS J03341218-4953322,27.0,0.069684924,0.10687352\\n130,LP 944-20,20.9,0.069684924,0.14695108999999998\\n131,2MASP J0345432+254023,88.0,0.070639512,0.10790115\\n132,Teide 1,380.0,0.05250234,0.38844413999999994\\n133,2MASS J03510004-0052452,48.0,0.09736797600000001,0.13050900999999998\\n134,2MASS J03552337+1133437,29.8,0.01909176,0.13564716\\n135,2MASS J04151954\\xe2\\x88\\x920935066,18.6,0.028637640000000002,0.09762484999999999\\n136,2MASS J04285096-2253227\\xc2\\xa0[de],85.0,0.07636704,0.11201167000000001\\n137,2MASS J04351612-1606574,34.0,0.0954588,0.12948137999999998\\n138,2MASS J04362788-4114465,142.0,0.037228932,0.20244310999999998\\n139,2MASS J04390101-2353083\\xc2\\xa0[de],29.5,0.045820224,0.09968010999999999\\n140,2MASS J04433764+0002040,82.0,0.021000936,0.18291813999999998\\n141,2MASS J04455387-3048204\\xc2\\xa0[de],42.0,0.061093632,0.102763\\n142,2MASS J04510093-3402150\\xc2\\xa0[de],69.0,0.00099277152,7.398935999999999\\n143,2MASS J05002100+0330501\\xc2\\xa0[de],44.0,0.061093632,0.102763\\n144,2MASS J05012406-0010452\\xc2\\xa0[de],64.0,0.020046348000000002,0.14181293999999997\\n145,2MASS J05160945-0445499\\xc2\\xa0[de],73.0,0.044865636,0.09968010999999999\\n146,2MASS J0523\\xe2\\x88\\x921403,40.0,0.064911984,0.10379063\\n147,SDSS J053951.99-005902.0,41.62,0.058229868000000004,0.10379063\\n148,LSR 0602+3910\\xc2\\xa0[de],34.6,0.026728464,0.14489582999999998\\n149,2MASS J06085283-2753583,102.0,0.036274344,0.15517213\\n150,2MASS J06244595-4521548\\xc2\\xa0[de],39.0,0.053456928,0.10173536999999999\\n151,2MASS J06411840-4322329\\xc2\\xa0[de],65.0,0.063957396,0.10379063\\n152,DENIS-P J0652197-253450\\xc2\\xa0[de],51.0,0.07159410000000001,0.10790115\\n153,2MASS J07075327-4900503,60.0,0.068730336,0.10584589\\n154,UGPS J072227.51-054031.2,13.4,0.024819288000000002,0.10070773999999999\\n155,2MASSI J0727182+171001\\xc2\\xa0[de],29.6,0.039138108,0.09659721999999998\\n156,2MASS J07290002-3954043\\xc2\\xa0[de],25.8,0.035319756,0.09659721999999998\\n157,SDSS J074201.41+205520.5\\xc2\\xa0[de],49.0,0.041047284,0.09659721999999998\\n158,DENIS-P J0751164-253043\\xc2\\xa0[de],55.0,0.067775748,0.10584589\\n159,2MASS J07522390+1612157,60.0,0.00191872188,6.987883999999999\\n160,DENIS J081730.0-615520,16.1,0.042001872,0.09659721999999998\\n161,2MASS J08251968+2115521\\xc2\\xa0[de],35.0,0.049638576000000004,0.10070773999999999\\n162,SDSSp J083008.12+482847.4\\xc2\\xa0[de],43.0,0.045820224,0.10173536999999999\\n163,LHS 2021,55.0,0.084003744,0.11817744999999999\\n164,SDSS J083048.80+012831.1\\xc2\\xa0[de],77.0,0.043911048,0.09865247999999999\\n165,2MASSI J0835425-081923\\xc2\\xa0[de],23.53,0.059184456,0.102763\\n166,2MASSI J0847287-153237\\xc2\\xa0[de],43.0,0.061093632,0.102763\\n167,2MASS J08533619-0329321,27.6,0.073503276,0.10995641\\n168,2MASSI J0859254-194926\\xc2\\xa0[de],50.0,0.0477294,0.10070773999999999\\n169,2MASSI J0937347+293142,20.0,0.040092696000000004,0.09659721999999998\\n170,2MASS 0939\\xe2\\x88\\x922448,17.4,0.030546816,0.09762484999999999\\n171,2MASS J09490860-1545485\\xc2\\xa0[de],59.0,0.046774812,0.09865247999999999\\n172,2MASS J10073369-4555147,46.0,0.042001872,0.09659721999999998\\n173,2MASSI J1010148-040649\\xc2\\xa0[de],55.0,0.048683988000000004,0.10070773999999999\\n174,2MASS J10224821+5825453\\xc2\\xa0[de],60.0,0.025773876,0.14489582999999998\\n175,2MASSW J1036530-344138\\xc2\\xa0[de],53.0,0.046774812,0.09968010999999999\\n176,2MASS J1047538+212423\\xc2\\xa0[de],34.4,0.040092696000000004,0.09659721999999998\\n177,DEN 1048-3956,13.15,0.073503276,0.10995641\\n178,Luhman 16B,6.516,0.041047284,0.10481826\\n179,Luhman 16A,6.516,0.03818352,0.10379063\\n180,DENIS-P J1058.7\\xe2\\x88\\x921548,49.0,0.061093632,0.102763\\n181,TWA 28,180.0,0.034365168,0.24560357\\n182,Cha 110913-773444,163.0,0.007636704,0.18497339999999998\\n183,SDSS J111010.01+011613.1,63.0,0.008591292,0.12742612\\n184,2MASS J11145133\\xe2\\x88\\x922618235,18.2,0.031501404000000004,0.09865247999999999\\n185,TWA 26,137.0,0.028637640000000002,0.2260786\\n186,2MASS J11544223-3400390\\xc2\\xa0[de],129.0,0.035319756,0.1541445\\n187,2MASSW J1155395-372735\\xc2\\xa0[de],31.0,0.061093632,0.102763\\n188,2MASS J12074836-3900043,217.0,0.016227996,0.17572473\\n189,2MASSI J1217110-031113\\xc2\\xa0[de],36.0,0.040092696000000004,0.09659721999999998\\n190,2M 1237+6526,45.6,0.039138108,0.09659721999999998\\n191,TWA 29,262.0,0.001909176,2.5690749999999998\\n192,SDSSp J125453.90-012247.4\\xc2\\xa0[de],38.0,0.044865636,0.10070773999999999\\n193,Kelu-1A,61.0,0.060139044,0.10070773999999999\\n194,Kelu-1B,61.0,0.055366104,0.10070773999999999\\n195,2MASS J13204427+0409045,101.0,0.063957396,0.10379063\\n196,SDSSp J132629.82-003831.5\\xc2\\xa0[de],65.0,0.048683988000000004,0.09968010999999999\\n197,SDSSp J134646.45-003150.4\\xc2\\xa0[de],48.0,0.042001872,0.09659721999999998\\n198,2MASS J13595510-4034582,51.0,0.060139044,0.102763\\n199,ULAS J141623.94+134836.3,29.7,0.030546816,0.09865247999999999\\n200,SDSS J141659.78+500626.4\\xc2\\xa0[de],149.0,0.056320692,0.10173536999999999\\n201,DENIS-P J142527.97-365023.4\\xc2\\xa0[de],38.0,0.020046348000000002,0.13564716\\n202,LHS 2924,38.5,0.072548688,0.10892878\\n203,2MASS J14392837+1929150,47.0,0.068730336,0.10584589\\n204,LSPM J1440+1339,72.0,0.087822096,0.12228796999999998\\n205,2MASS J14482563+1031590\\xc2\\xa0[de],47.0,0.056320692,0.10173536999999999\\n206,CFBDSIR 1458+10A,104.0,0.0105959268,0.1541445\\n207,CFBDSIR 1458+10B,104.0,0.008591292,0.13359189999999999\\n208,TVLM 513-46546,35.1,0.07159410000000001,0.10790115\\n209,2MASS 1503+2525,20.7,0.042001872,0.09659721999999998\\n210,CFBDS J150411+102717,71.0,0.042001872,0.09659721999999998\\n211,2MASSW J1506544+132106\\xc2\\xa0[de],46.0,0.065866572,0.10481826\\n212,2MASS 1507\\xe2\\x88\\x921627,23.9,0.057275280000000005,0.10173536999999999\\n213,TVLM 868-110639,53.0,0.075412452,0.11098404\\n214,2MASSW J1515008+484742\\xc2\\xa0[de],34.0,0.054411516,0.10173536999999999\\n215,2MASSI J1526140+204341\\xc2\\xa0[de],67.0,0.051547752,0.10070773999999999\\n216,DENIS-P J153941.96-052042.4\\xc2\\xa0[de],51.0,0.060139044,0.102763\\n217,2MASS J15462718-3325111\\xc2\\xa0[de],37.0,0.042001872,0.09659721999999998\\n218,2MASSW J1552591+294849\\xc2\\xa0[de],68.0,0.028637640000000002,0.14695108999999998\\n219,2MASSW J1555157-095605\\xc2\\xa0[de],44.0,0.067775748,0.10584589\\n220,2MASS J16150413+1340079\\xc2\\xa0[de],48.0,0.040092696000000004,0.09659721999999998\\n221,SDSSp J162414.37+002915.6\\xc2\\xa0[de],36.0,0.041047284,0.09659721999999998\\n222,2MASS J16262034+3925190\\xc2\\xa0[de],110.0,0.067775748,0.10584589\\n223,2MASSW J1632291+190441\\xc2\\xa0[de],50.0,0.046774812,0.09968010999999999\\n224,WISEPA J164715.59+563208.2,28.0,0.039138108,0.09659721999999998\\n225,LSPM J1658+7027\\xc2\\xa0[de],60.0,0.069684924,0.10687352\\n226,2MASSI J1726000+153819,114.0,0.022910112,0.14386819999999997\\n227,SDSSp J175032.96+175903.9,90.0,0.044865636,0.09968010999999999\\n228,2MASS J18283572-4849046,39.0,0.04295646,0.09762484999999999\\n229,LSR J1835+3259,18.5,0.073503276,0.10995641\\n230,2MASSW J1841086+311727,138.0,0.063957396,0.10379063\\n231,2MASS J18432213+4040209,46.0,0.091640448,0.12537086\\n232,2MASS J20004841-7523070,105.0,0.0238647,0.19319443999999997\\n233,SDSS J204749.61-071818.3,65.0,0.043911048,0.09865247999999999\\n234,2MASSI J2057540-025230,47.0,0.06682116,0.10481826\\n235,2MASSI J2104149-103736,62.0,0.065866572,0.10481826\\n236,PSO J318.5\\xe2\\x88\\x9222,80.0,0.0062048220000000005,0.15722739\\n237,HB 2124-4228,113.0,0.089731272,0.12434322999999999\\n238,2MASS J21392676+0220226,32.1,0.043911048,0.09865247999999999\\n239,2MASS J21481628+4003593,26.3,0.05250234,0.10173536999999999\\n240,2MASSW J2206450-421721,93.0,0.021000936,0.13667479\\n241,2MASSW J2208136+292121,154.0,0.025773876,0.14489582999999998\\n242,2MASSW J2224438-015852,38.0,0.058229868000000004,0.10173536999999999\\n243,2MASS J22282889-4310262,35.0,0.040092696000000004,0.09659721999999998\\n244,2MASS J22373255+3922398,64.0,0.069684924,0.10687352\\n245,2MASSW J2244316+204343,56.0,0.011455056,0.13256426999999998\\n246,2MASS J23224684-3133231,56.0,0.022910112,0.14284056999999997\\n247,2MASS J23225299-6151275,148.0,0.016227996,0.16339317\\n248,2MASS J23515044-2537367,67.0,0.084003744,0.11920507999999998\\n249,2MASSI J2356547-155310,74.0,0.07636704,0.11201167000000001\\n250,WISE 0410+1502,20.0,0.005727528,0.12023270999999998\\n251,WISE 0458+6434A,35.9,0.014318820000000001,0.4316046\\n252,WISE 0458+6434B,35.9,0.00954588,0.39049939999999994\\n253,WISE 1405+5534,25.3,0.028637640000000002,0.08837618\\n'}"
            ]
          },
          "metadata": {},
          "execution_count": 2
        }
      ],
      "source": [
        "from google.colab import files\n",
        "files.upload()"
      ]
    },
    {
      "cell_type": "code",
      "source": [
        "import csv\n",
        "\n",
        "\n",
        "rows=[]\n",
        "with open(\"final_data.csv\",\"r\") as f:\n",
        "  csvreader=csv.reader(f)\n",
        "  for row in csvreader:\n",
        "    rows.append(row)\n",
        "headers=rows[0]\n",
        "star_data_rows=rows[1:]\n",
        "print(headers)\n",
        "print(star_data_rows[0])"
      ],
      "metadata": {
        "colab": {
          "base_uri": "https://localhost:8080/"
        },
        "id": "1QVsS-CT9Gn9",
        "outputId": "cd27e0c6-62b8-4e41-a7d1-bb446148f8c1"
      },
      "execution_count": 3,
      "outputs": [
        {
          "output_type": "stream",
          "name": "stdout",
          "text": [
            "['', 'Star_names', 'Distance', 'Mass', 'Radius']\n",
            "['0', 'Sun', '0.000015813', '1', '1']\n"
          ]
        }
      ]
    },
    {
      "cell_type": "code",
      "source": [
        "import pandas as pd\n",
        "\n",
        "df=pd.read_csv('final_data.csv')\n",
        "gravity_data=df\n",
        "gravity_data"
      ],
      "metadata": {
        "colab": {
          "base_uri": "https://localhost:8080/",
          "height": 424
        },
        "id": "1nVUOTd_ASr5",
        "outputId": "e353d641-16ee-42e5-eac9-873b0537c034"
      },
      "execution_count": 14,
      "outputs": [
        {
          "output_type": "execute_result",
          "data": {
            "text/plain": [
              "     Unnamed: 0              Star_names     Distance                  Mass  \\\n",
              "0             0                     Sun  0.000015813                     1   \n",
              "1             1                  Sirius       0008.6                   2.1   \n",
              "2             2                 Canopus         0310                    15   \n",
              "3             3          Alpha Centauri       0004.4                   1.1   \n",
              "4             4                Arcturus         0037                   1.1   \n",
              "..          ...                     ...          ...                   ...   \n",
              "249         249  2MASSI J2356547-155310         74.0            0.07636704   \n",
              "250         250          WISE 0410+1502         20.0           0.005727528   \n",
              "251         251         WISE 0458+6434A         35.9  0.014318820000000001   \n",
              "252         252         WISE 0458+6434B         35.9            0.00954588   \n",
              "253         253          WISE 1405+5534         25.3  0.028637640000000002   \n",
              "\n",
              "                  Radius  \n",
              "0                      1  \n",
              "1                   1.71  \n",
              "2                     71  \n",
              "3                    1.2  \n",
              "4                     26  \n",
              "..                   ...  \n",
              "249  0.11201167000000001  \n",
              "250  0.12023270999999998  \n",
              "251            0.4316046  \n",
              "252  0.39049939999999994  \n",
              "253           0.08837618  \n",
              "\n",
              "[254 rows x 5 columns]"
            ],
            "text/html": [
              "\n",
              "  <div id=\"df-2665225a-7bea-4862-abbe-5cda7ab72d18\">\n",
              "    <div class=\"colab-df-container\">\n",
              "      <div>\n",
              "<style scoped>\n",
              "    .dataframe tbody tr th:only-of-type {\n",
              "        vertical-align: middle;\n",
              "    }\n",
              "\n",
              "    .dataframe tbody tr th {\n",
              "        vertical-align: top;\n",
              "    }\n",
              "\n",
              "    .dataframe thead th {\n",
              "        text-align: right;\n",
              "    }\n",
              "</style>\n",
              "<table border=\"1\" class=\"dataframe\">\n",
              "  <thead>\n",
              "    <tr style=\"text-align: right;\">\n",
              "      <th></th>\n",
              "      <th>Unnamed: 0</th>\n",
              "      <th>Star_names</th>\n",
              "      <th>Distance</th>\n",
              "      <th>Mass</th>\n",
              "      <th>Radius</th>\n",
              "    </tr>\n",
              "  </thead>\n",
              "  <tbody>\n",
              "    <tr>\n",
              "      <th>0</th>\n",
              "      <td>0</td>\n",
              "      <td>Sun</td>\n",
              "      <td>0.000015813</td>\n",
              "      <td>1</td>\n",
              "      <td>1</td>\n",
              "    </tr>\n",
              "    <tr>\n",
              "      <th>1</th>\n",
              "      <td>1</td>\n",
              "      <td>Sirius</td>\n",
              "      <td>0008.6</td>\n",
              "      <td>2.1</td>\n",
              "      <td>1.71</td>\n",
              "    </tr>\n",
              "    <tr>\n",
              "      <th>2</th>\n",
              "      <td>2</td>\n",
              "      <td>Canopus</td>\n",
              "      <td>0310</td>\n",
              "      <td>15</td>\n",
              "      <td>71</td>\n",
              "    </tr>\n",
              "    <tr>\n",
              "      <th>3</th>\n",
              "      <td>3</td>\n",
              "      <td>Alpha Centauri</td>\n",
              "      <td>0004.4</td>\n",
              "      <td>1.1</td>\n",
              "      <td>1.2</td>\n",
              "    </tr>\n",
              "    <tr>\n",
              "      <th>4</th>\n",
              "      <td>4</td>\n",
              "      <td>Arcturus</td>\n",
              "      <td>0037</td>\n",
              "      <td>1.1</td>\n",
              "      <td>26</td>\n",
              "    </tr>\n",
              "    <tr>\n",
              "      <th>...</th>\n",
              "      <td>...</td>\n",
              "      <td>...</td>\n",
              "      <td>...</td>\n",
              "      <td>...</td>\n",
              "      <td>...</td>\n",
              "    </tr>\n",
              "    <tr>\n",
              "      <th>249</th>\n",
              "      <td>249</td>\n",
              "      <td>2MASSI J2356547-155310</td>\n",
              "      <td>74.0</td>\n",
              "      <td>0.07636704</td>\n",
              "      <td>0.11201167000000001</td>\n",
              "    </tr>\n",
              "    <tr>\n",
              "      <th>250</th>\n",
              "      <td>250</td>\n",
              "      <td>WISE 0410+1502</td>\n",
              "      <td>20.0</td>\n",
              "      <td>0.005727528</td>\n",
              "      <td>0.12023270999999998</td>\n",
              "    </tr>\n",
              "    <tr>\n",
              "      <th>251</th>\n",
              "      <td>251</td>\n",
              "      <td>WISE 0458+6434A</td>\n",
              "      <td>35.9</td>\n",
              "      <td>0.014318820000000001</td>\n",
              "      <td>0.4316046</td>\n",
              "    </tr>\n",
              "    <tr>\n",
              "      <th>252</th>\n",
              "      <td>252</td>\n",
              "      <td>WISE 0458+6434B</td>\n",
              "      <td>35.9</td>\n",
              "      <td>0.00954588</td>\n",
              "      <td>0.39049939999999994</td>\n",
              "    </tr>\n",
              "    <tr>\n",
              "      <th>253</th>\n",
              "      <td>253</td>\n",
              "      <td>WISE 1405+5534</td>\n",
              "      <td>25.3</td>\n",
              "      <td>0.028637640000000002</td>\n",
              "      <td>0.08837618</td>\n",
              "    </tr>\n",
              "  </tbody>\n",
              "</table>\n",
              "<p>254 rows × 5 columns</p>\n",
              "</div>\n",
              "      <button class=\"colab-df-convert\" onclick=\"convertToInteractive('df-2665225a-7bea-4862-abbe-5cda7ab72d18')\"\n",
              "              title=\"Convert this dataframe to an interactive table.\"\n",
              "              style=\"display:none;\">\n",
              "        \n",
              "  <svg xmlns=\"http://www.w3.org/2000/svg\" height=\"24px\"viewBox=\"0 0 24 24\"\n",
              "       width=\"24px\">\n",
              "    <path d=\"M0 0h24v24H0V0z\" fill=\"none\"/>\n",
              "    <path d=\"M18.56 5.44l.94 2.06.94-2.06 2.06-.94-2.06-.94-.94-2.06-.94 2.06-2.06.94zm-11 1L8.5 8.5l.94-2.06 2.06-.94-2.06-.94L8.5 2.5l-.94 2.06-2.06.94zm10 10l.94 2.06.94-2.06 2.06-.94-2.06-.94-.94-2.06-.94 2.06-2.06.94z\"/><path d=\"M17.41 7.96l-1.37-1.37c-.4-.4-.92-.59-1.43-.59-.52 0-1.04.2-1.43.59L10.3 9.45l-7.72 7.72c-.78.78-.78 2.05 0 2.83L4 21.41c.39.39.9.59 1.41.59.51 0 1.02-.2 1.41-.59l7.78-7.78 2.81-2.81c.8-.78.8-2.07 0-2.86zM5.41 20L4 18.59l7.72-7.72 1.47 1.35L5.41 20z\"/>\n",
              "  </svg>\n",
              "      </button>\n",
              "      \n",
              "  <style>\n",
              "    .colab-df-container {\n",
              "      display:flex;\n",
              "      flex-wrap:wrap;\n",
              "      gap: 12px;\n",
              "    }\n",
              "\n",
              "    .colab-df-convert {\n",
              "      background-color: #E8F0FE;\n",
              "      border: none;\n",
              "      border-radius: 50%;\n",
              "      cursor: pointer;\n",
              "      display: none;\n",
              "      fill: #1967D2;\n",
              "      height: 32px;\n",
              "      padding: 0 0 0 0;\n",
              "      width: 32px;\n",
              "    }\n",
              "\n",
              "    .colab-df-convert:hover {\n",
              "      background-color: #E2EBFA;\n",
              "      box-shadow: 0px 1px 2px rgba(60, 64, 67, 0.3), 0px 1px 3px 1px rgba(60, 64, 67, 0.15);\n",
              "      fill: #174EA6;\n",
              "    }\n",
              "\n",
              "    [theme=dark] .colab-df-convert {\n",
              "      background-color: #3B4455;\n",
              "      fill: #D2E3FC;\n",
              "    }\n",
              "\n",
              "    [theme=dark] .colab-df-convert:hover {\n",
              "      background-color: #434B5C;\n",
              "      box-shadow: 0px 1px 3px 1px rgba(0, 0, 0, 0.15);\n",
              "      filter: drop-shadow(0px 1px 2px rgba(0, 0, 0, 0.3));\n",
              "      fill: #FFFFFF;\n",
              "    }\n",
              "  </style>\n",
              "\n",
              "      <script>\n",
              "        const buttonEl =\n",
              "          document.querySelector('#df-2665225a-7bea-4862-abbe-5cda7ab72d18 button.colab-df-convert');\n",
              "        buttonEl.style.display =\n",
              "          google.colab.kernel.accessAllowed ? 'block' : 'none';\n",
              "\n",
              "        async function convertToInteractive(key) {\n",
              "          const element = document.querySelector('#df-2665225a-7bea-4862-abbe-5cda7ab72d18');\n",
              "          const dataTable =\n",
              "            await google.colab.kernel.invokeFunction('convertToInteractive',\n",
              "                                                     [key], {});\n",
              "          if (!dataTable) return;\n",
              "\n",
              "          const docLinkHtml = 'Like what you see? Visit the ' +\n",
              "            '<a target=\"_blank\" href=https://colab.research.google.com/notebooks/data_table.ipynb>data table notebook</a>'\n",
              "            + ' to learn more about interactive tables.';\n",
              "          element.innerHTML = '';\n",
              "          dataTable['output_type'] = 'display_data';\n",
              "          await google.colab.output.renderOutput(dataTable, element);\n",
              "          const docLink = document.createElement('div');\n",
              "          docLink.innerHTML = docLinkHtml;\n",
              "          element.appendChild(docLink);\n",
              "        }\n",
              "      </script>\n",
              "    </div>\n",
              "  </div>\n",
              "  "
            ]
          },
          "metadata": {},
          "execution_count": 14
        }
      ]
    },
    {
      "cell_type": "code",
      "source": [
        "temp_star_data_rows = list(star_data_rows)\n",
        "\n",
        "\n",
        "star_masses = []\n",
        "star_radiuses = []\n",
        "star_name = []\n",
        "for star_data in star_data_rows:\n",
        "  star_masses.append(star_data[3])\n",
        "  star_radiuses.append(star_data[4])\n",
        "  star_name.append(star_data[1])\n",
        "star_gravity = []\n",
        "for index, Star_names in enumerate(star_name):\n",
        "  gravity = (float(star_masses[index])*1.989e+30) / (float(star_radiuses[index])*float(star_radiuses[index])*6.957e+8)\n",
        "  star_gravity.append(gravity)\n",
        "\n"
      ],
      "metadata": {
        "colab": {
          "base_uri": "https://localhost:8080/",
          "height": 253
        },
        "id": "GJh_oolJ9lmm",
        "outputId": "afeb6c2b-a01b-4f11-fbb3-e40add6fb4b5"
      },
      "execution_count": 11,
      "outputs": [
        {
          "output_type": "error",
          "ename": "ValueError",
          "evalue": "ignored",
          "traceback": [
            "\u001b[0;31m---------------------------------------------------------------------------\u001b[0m",
            "\u001b[0;31mValueError\u001b[0m                                Traceback (most recent call last)",
            "\u001b[0;32m<ipython-input-11-305608fe0f00>\u001b[0m in \u001b[0;36m<module>\u001b[0;34m()\u001b[0m\n\u001b[1;32m     11\u001b[0m \u001b[0mstar_gravity\u001b[0m \u001b[0;34m=\u001b[0m \u001b[0;34m[\u001b[0m\u001b[0;34m]\u001b[0m\u001b[0;34m\u001b[0m\u001b[0;34m\u001b[0m\u001b[0m\n\u001b[1;32m     12\u001b[0m \u001b[0;32mfor\u001b[0m \u001b[0mindex\u001b[0m\u001b[0;34m,\u001b[0m \u001b[0mStar_names\u001b[0m \u001b[0;32min\u001b[0m \u001b[0menumerate\u001b[0m\u001b[0;34m(\u001b[0m\u001b[0mstar_name\u001b[0m\u001b[0;34m)\u001b[0m\u001b[0;34m:\u001b[0m\u001b[0;34m\u001b[0m\u001b[0;34m\u001b[0m\u001b[0m\n\u001b[0;32m---> 13\u001b[0;31m   \u001b[0mgravity\u001b[0m \u001b[0;34m=\u001b[0m \u001b[0;34m(\u001b[0m\u001b[0mfloat\u001b[0m\u001b[0;34m(\u001b[0m\u001b[0mstar_masses\u001b[0m\u001b[0;34m[\u001b[0m\u001b[0mindex\u001b[0m\u001b[0;34m]\u001b[0m\u001b[0;34m)\u001b[0m\u001b[0;34m*\u001b[0m\u001b[0;36m1.989e+30\u001b[0m\u001b[0;34m)\u001b[0m \u001b[0;34m/\u001b[0m \u001b[0;34m(\u001b[0m\u001b[0mfloat\u001b[0m\u001b[0;34m(\u001b[0m\u001b[0mstar_radiuses\u001b[0m\u001b[0;34m[\u001b[0m\u001b[0mindex\u001b[0m\u001b[0;34m]\u001b[0m\u001b[0;34m)\u001b[0m\u001b[0;34m*\u001b[0m\u001b[0mfloat\u001b[0m\u001b[0;34m(\u001b[0m\u001b[0mstar_radiuses\u001b[0m\u001b[0;34m[\u001b[0m\u001b[0mindex\u001b[0m\u001b[0;34m]\u001b[0m\u001b[0;34m)\u001b[0m\u001b[0;34m*\u001b[0m\u001b[0;36m6.957e+8\u001b[0m\u001b[0;34m)\u001b[0m\u001b[0;34m\u001b[0m\u001b[0;34m\u001b[0m\u001b[0m\n\u001b[0m\u001b[1;32m     14\u001b[0m   \u001b[0mstar_gravity\u001b[0m\u001b[0;34m.\u001b[0m\u001b[0mappend\u001b[0m\u001b[0;34m(\u001b[0m\u001b[0mgravity\u001b[0m\u001b[0;34m)\u001b[0m\u001b[0;34m\u001b[0m\u001b[0;34m\u001b[0m\u001b[0m\n\u001b[1;32m     15\u001b[0m \u001b[0;34m\u001b[0m\u001b[0m\n",
            "\u001b[0;31mValueError\u001b[0m: could not convert string to float: '60–881'"
          ]
        }
      ]
    },
    {
      "cell_type": "code",
      "source": [
        "gravity_data.to_csv('gravity_data.csv')"
      ],
      "metadata": {
        "id": "B5d0TGywAlJd"
      },
      "execution_count": 16,
      "outputs": []
    }
  ]
}